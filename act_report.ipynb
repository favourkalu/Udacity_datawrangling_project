{
 "cells": [
  {
   "cell_type": "markdown",
   "id": "cea09717",
   "metadata": {},
   "source": [
    "# ACT REPORT"
   ]
  },
  {
   "attachments": {},
   "cell_type": "markdown",
   "id": "ce4f1c94",
   "metadata": {},
   "source": [
    "## INTRODUCTION\n",
    "\n",
    "This project dealt with wrangling data and analyzing data. It used a real world dataset which is a tweet archive of twitter user also known as \n",
    "WeRateDogs. WeRateDogs has over 4million followers and has international recognition. The sole purpose of this account is to rate people's dogs with a humorous comment about the dog. This project, applied the three wrangling process which is gather, access and clean to to get the dataset ready tidiness and quality wise for making insights and visualization. \n",
    "\n",
    "The clean data was used in producing insights with visualization. Below are the insights produced.\n",
    "\n",
    "### DOG CATEGORIES\n",
    "\n",
    "> It was found that there are four(4) categories or types of dogs in the dataset. Those categories are pupper, doggo, puppo and flooter with pupper having the highest value of count.\n",
    "\n",
    "### RELATIONSHIP BETWEEN RETWEET COUNT AND FAVORITE COUNT\n",
    "\n",
    "> From the visualization below, it shows that there is a postive correlation between retweet count and favorite count. This means that there is a relationship between them and they move in the same direction.\n",
    "\n",
    "### CATEGORY OF DOG WITH THE MOST FAVORITE COUNT\n",
    "\n",
    "> From the visualization, it shows that the pupper dog category has the favorite count with a value of 1442929.\n"
   ]
  }
 ],
 "metadata": {
  "kernelspec": {
   "display_name": "Python 3 (ipykernel)",
   "language": "python",
   "name": "python3"
  },
  "language_info": {
   "codemirror_mode": {
    "name": "ipython",
    "version": 3
   },
   "file_extension": ".py",
   "mimetype": "text/x-python",
   "name": "python",
   "nbconvert_exporter": "python",
   "pygments_lexer": "ipython3",
   "version": "3.9.12"
  }
 },
 "nbformat": 4,
 "nbformat_minor": 5
}
